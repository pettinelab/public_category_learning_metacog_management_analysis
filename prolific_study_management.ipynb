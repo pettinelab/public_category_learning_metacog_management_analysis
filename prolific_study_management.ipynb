{
 "cells": [
  {
   "cell_type": "markdown",
   "metadata": {},
   "source": [
    "Notebook to facilitate the management of prolific studies\n",
    "\n",
    "By Warren Woodrich Pettine, M.D. Last updated 2023-11-16"
   ]
  },
  {
   "cell_type": "code",
   "execution_count": 1,
   "metadata": {},
   "outputs": [],
   "source": [
    "import os\n",
    "import numpy as np\n",
    "import pandas as pd\n",
    "import dill as pickle\n",
    "import requests\n",
    "from datetime import datetime, timedelta\n",
    "\n",
    "from prolificinterfacefunctions import getProlificRequestHeader, prolificEndpointURLS, studyParams, payProlificSubjects, \\\n",
    "    getSessionData, createReplicationStudy\n",
    "\n",
    "from dbinterfacefunctions import connectDroneReconDB, getPriorProlificRecruitment, getAnalysisData\n",
    "\n",
    "from analysisfunctions import calcBrierScore, calcCalibration, convertCalibration, cleanDataOnlyProlificSubjects"
   ]
  },
  {
   "attachments": {},
   "cell_type": "markdown",
   "metadata": {},
   "source": [
    "# Launch studies\n",
    "## Create study parameters"
   ]
  },
  {
   "cell_type": "code",
   "execution_count": null,
   "metadata": {},
   "outputs": [],
   "source": [
    "prolific_ids = None \n",
    "\n",
    "payment_participate=4\n",
    "payment_performance=2\n",
    "total_available_places=1\n",
    "internal_name = 'Drone Recon Development pilot 2'\n",
    "exclude_prior_subjects=True\n",
    "webapp_use='both'\n",
    "description_type='both'\n",
    "\n",
    "study_description = \\\n",
    "    '<p>Answer questions then play a game where you perform reconnaissance on different types of drones! You will:</p>' + \\\n",
    "    '<ul>' + \\\n",
    "    '<li>Answer a series of confidential questions (~5 min);</li>' + \\\n",
    "    '<li>Complete a tutorial that you must pass to move onto the main game (~5 min);</li>' + \\\n",
    "    '<li>Play the main game (~10-20 min).</li>' + \\\n",
    "    '</ul> ' + \\\n",
    "    '<p>If you do well on the game, you will be invited back to play again.</p>' + \\\n",
    "    '<p>Payment:</p>' + \\\n",
    "    '<ul>' + \\\n",
    "    f'<li>${payment_participate} for active participation (what the hourly rate is based on);</li>' + \\\n",
    "    f'<li>${payment_performance} bonus for high performance.</li>' + \\\n",
    "    '</ul> ' +\\\n",
    "    '</p>'\n",
    "                \n",
    "params = studyParams(prolific_ids=prolific_ids,description_type=description_type,payment_participate=payment_participate,\n",
    "    exclude_prior_subjects=exclude_prior_subjects,study_description=study_description,\n",
    "    payment_performance=payment_performance,total_available_places=total_available_places,\n",
    "    estimated_completion_time=20,internal_name=internal_name,webapp_use=webapp_use)\n",
    "\n",
    "display('Params created')"
   ]
  },
  {
   "attachments": {},
   "cell_type": "markdown",
   "metadata": {},
   "source": [
    "## Post draft\n",
    "Post the study to ones prolific account"
   ]
  },
  {
   "cell_type": "code",
   "execution_count": null,
   "metadata": {},
   "outputs": [],
   "source": [
    "prolific_requester_token = None # ENTER YOUR PROLIFIC TOKEN HERE\n",
    "\n",
    "header = getProlificRequestHeader(prolific_requester_token=prolific_requester_token)\n",
    "url_post_study_draft = 'https://api.prolific.co/api/v1/studies/'\n",
    "\n",
    "r_create_draft = requests.post(url_post_study_draft, headers=header, json=params)\n",
    "print(r_create_draft)\n",
    "r_create_draft.json()"
   ]
  },
  {
   "attachments": {},
   "cell_type": "markdown",
   "metadata": {},
   "source": [
    "# Manage Studies\n",
    "## Pay subjects\n",
    "### Load subject data and calculate the adjusted reward"
   ]
  },
  {
   "cell_type": "code",
   "execution_count": null,
   "metadata": {},
   "outputs": [],
   "source": [
    "start_date='2023-08-06'\n",
    "end_date='2023-08-19'\n",
    "external_study_id='put_study_id_here'\n",
    "\n",
    "data = getAnalysisData(cursor=None,start_date='2023-09-07',end_date='2023-09-13',external_source='prolific',task=None,\n",
    "    size_bool=True,confidence_bool=True,session_completed_bool=True,sleep_bool=False)\n",
    "\n",
    "data = cleanDataOnlyProlificSubjects(data)\n",
    "\n",
    "# Get the external IDs\n",
    "external_ids = data.external_id.unique()\n",
    "idx = [len(external_id)>22 for external_id in external_ids]\n",
    "external_ids = external_ids[idx]\n",
    "\n",
    "accuracy = np.zeros(len(external_ids))\n",
    "brier_score = np.zeros(len(external_ids))\n",
    "calibration = np.zeros(len(external_ids))\n",
    "calibration_converted_score = np.zeros(len(external_ids))\n",
    "accuracy_calibrationconverted_mean = np.zeros(len(external_ids))\n",
    "\n",
    "for i, external_id in enumerate(external_ids):\n",
    "    # Get the data for the current external ID\n",
    "    data_subject = data.loc[data.external_id == external_id, :]\n",
    "    accuracy[i] = data_subject.loc[data_subject.block=='test',:].correct.mean()\n",
    "    estimates_ = data_subject.loc[data_subject.block=='test',:].confidence.to_numpy().astype(int)\n",
    "    outcomes_ = data_subject.loc[data_subject.block=='test',:].correct.to_numpy().astype(int)\n",
    "    brier_score[i] = calcBrierScore(estimates_,outcomes_)\n",
    "    calibration[i] = calcCalibration(estimates_,outcomes_)\n",
    "    calibration_converted_score[i] = convertCalibration(estimates_,outcomes_)\n",
    "    accuracy_calibrationconverted_mean[i] = (accuracy[i]+calibration_converted_score[i])/2\n",
    "\n",
    "task_summaries_df = pd.DataFrame({\n",
    "        'external_ID':external_ids,\n",
    "        'accuracy':accuracy,\n",
    "        'brier_score':brier_score,\n",
    "        'calibration_converted_score': calibration_converted_score,\n",
    "        'accuracy_calibrationconverted_mean': accuracy_calibrationconverted_mean\n",
    "})\n",
    "\n",
    "\n",
    "data_session = getSessionData(start_date=start_date,end_date=start_date,cursor=None,external_study_id=external_study_id,task=None)\n",
    "data_session = pd.merge(data_session,task_summaries_df,on='external_ID',how='right')"
   ]
  },
  {
   "cell_type": "markdown",
   "metadata": {},
   "source": [
    "### Issue payment"
   ]
  },
  {
   "cell_type": "code",
   "execution_count": null,
   "metadata": {},
   "outputs": [],
   "source": [
    "estimate_cost = False\n",
    "hit_id = 'put_study_id_here'\n",
    "completion_payment=3.00\n",
    "performance_payment=2.00\n",
    "accuracy_calibrationconverted_mean_threshold = 0.8\n",
    "prolific_requester_token = None # ENTER YOUR PROLIFIC TOKEN HERE\n",
    "\n",
    "base_cost, bonus = payProlificSubjects(data_session=data_session,prolific_requester_token=prolific_requester_token,\n",
    "            completion_payment=completion_payment,performance_payment=performance_payment,hit_id=hit_id,cursor=None,conn=None,\n",
    "            skip_balance_check=True,assignment_statuses=['Submitted', 'Approved'],estimate_cost=estimate_cost,platform_fee_percentage=0.2,\n",
    "            accuracy_calibrationconverted_mean_threshold=accuracy_calibrationconverted_mean_threshold)\n",
    "\n",
    "print(f'Base subject = {base_cost[0]}, Prolific = {base_cost[1]}, Total = {sum(base_cost+bonus)}')"
   ]
  },
  {
   "cell_type": "markdown",
   "metadata": {},
   "source": [
    "## Re-test study\n",
    "Programaticall ceate a retest study"
   ]
  },
  {
   "cell_type": "code",
   "execution_count": null,
   "metadata": {},
   "outputs": [],
   "source": [
    "get_estimate=False\n",
    "\n",
    "drop_retest = False\n",
    "drop_recruited = False\n",
    "\n",
    "start_date = '2023-08-22'\n",
    "end_date = '2023-09-08' # Of when they performed the initial test\n",
    "start_date_recruitment = '2023-09-08' #Check for prior recruitment\n",
    "external_study_id = 'put_study_id_here'\n",
    "\n",
    "payment_participate=3\n",
    "payment_performance=2\n",
    "internal_name='Drone Re-test 2, pilot 1'\n",
    "recruitment_note = 'This is the second retest of the drone recon study.'\n",
    "study_description = \\\n",
    "    \"<p>Come play Drone Recon again!  The agency needs you. There's a new batch of enemy drones, and we require our best agents.\"+\\\n",
    "    '<p>Payment:</p>' + \\\n",
    "    '<ul>' + \\\n",
    "    f'<li>${payment_participate} for active participation (what the hourly rate is based on);</li>' + \\\n",
    "    f'<li>${payment_performance} bonus for high performance.</li>' + \\\n",
    "    '</ul> ' +\\\n",
    "    '</p>'\n",
    "    \n",
    "asd_subjects_only = True\n",
    "n_subjects = 234\n",
    "webapp_use = 'task'\n",
    "project_id='enter_project_id_here'\n",
    "target_study_hits = [] # list of study hits from which to recruit. If empty, all hits are used.\n",
    "completion_code = 'put_completion_code_here'\n",
    "failed_attention_code = 'put_failed_attention_code_here'\n",
    "\n",
    "data_session = getSessionData(start_date=start_date,end_date=end_date,cursor=None,external_study_id=external_study_id,task=None)\n",
    "eligible_prolific_subject_ids = data_session[data_session.session_completed].external_ID.unique()\n",
    "\n",
    "\n",
    "# if 'conn' not in locals():\n",
    "cursor, conn = connectDroneReconDB()\n",
    "    \n",
    "study_id, external_ids = createReplicationStudy(start_date,end_date,target_study_hits=target_study_hits,recruitment_note=recruitment_note,\n",
    "    task=\"category_metacog-v0\",get_estimate=get_estimate,internal_name=internal_name,cursor=cursor,payment_participate=payment_participate,\n",
    "    payment_performance=payment_performance,conn=conn,eligible_prolific_subject_ids=eligible_prolific_subject_ids,\n",
    "    start_date_recruitment=start_date_recruitment,webapp_url='https://dronerecongame.azurewebsites.net',webapp_use=webapp_use,message_body=None,\n",
    "    n_subjects=n_subjects,study_title=\"The agency needs you again for Drone Recon!\",study_description=study_description,project_id=project_id,\n",
    "    completion_code=completion_code,failed_attention_code=failed_attention_code,drop_retest=drop_retest,drop_recruited=drop_recruited)\n",
    "\n",
    "print(f'Study ID is {study_id}')\n",
    "print(len(external_ids))"
   ]
  },
  {
   "cell_type": "code",
   "execution_count": null,
   "metadata": {},
   "outputs": [],
   "source": []
  }
 ],
 "metadata": {
  "kernelspec": {
   "display_name": "py37aa",
   "language": "python",
   "name": "python3"
  },
  "language_info": {
   "codemirror_mode": {
    "name": "ipython",
    "version": 3
   },
   "file_extension": ".py",
   "mimetype": "text/x-python",
   "name": "python",
   "nbconvert_exporter": "python",
   "pygments_lexer": "ipython3",
   "version": "3.11.5"
  },
  "orig_nbformat": 4
 },
 "nbformat": 4,
 "nbformat_minor": 2
}
